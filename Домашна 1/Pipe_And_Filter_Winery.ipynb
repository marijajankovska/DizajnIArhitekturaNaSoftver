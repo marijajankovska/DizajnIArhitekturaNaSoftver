{
  "nbformat": 4,
  "nbformat_minor": 0,
  "metadata": {
    "colab": {
      "provenance": []
    },
    "kernelspec": {
      "name": "python3",
      "display_name": "Python 3"
    },
    "language_info": {
      "name": "python"
    }
  },
  "cells": [
    {
      "cell_type": "code",
      "execution_count": null,
      "metadata": {
        "id": "QSWhSN_ubUfu"
      },
      "outputs": [],
      "source": [
        "import pandas as pd"
      ]
    },
    {
      "cell_type": "code",
      "source": [
        "from google.colab import drive\n",
        "\n",
        "drive.mount('/content/drive')"
      ],
      "metadata": {
        "colab": {
          "base_uri": "https://localhost:8080/"
        },
        "id": "e2CJDw9ub5ov",
        "outputId": "8456db36-a3ce-4b0c-f9d6-d8cd72838313"
      },
      "execution_count": null,
      "outputs": [
        {
          "output_type": "stream",
          "name": "stdout",
          "text": [
            "Drive already mounted at /content/drive; to attempt to forcibly remount, call drive.mount(\"/content/drive\", force_remount=True).\n"
          ]
        }
      ]
    },
    {
      "cell_type": "code",
      "source": [
        "def read_db(file_path):\n",
        "  df = pd.read_csv('/content/drive/MyDrive/baza vinarii.csv', header=0)\n",
        "  df.columns = df.iloc[0]\n",
        "  df = df[1:]\n",
        "  return df"
      ],
      "metadata": {
        "id": "oAoeAO2XdEQQ"
      },
      "execution_count": null,
      "outputs": []
    },
    {
      "cell_type": "code",
      "source": [
        "def clean_data(df):\n",
        "  df = df.drop(df.columns[[1, 2, 3,4]], axis=1)\n",
        "  #df = df.dropna()\n",
        "  return df"
      ],
      "metadata": {
        "id": "nTwji0dsdiaj"
      },
      "execution_count": null,
      "outputs": []
    },
    {
      "cell_type": "code",
      "source": [
        "def forward_fill(df,column_name):\n",
        "  df['Место'].ffill(inplace=True)\n",
        "  return df"
      ],
      "metadata": {
        "id": "Gk9B8Z9qiz4N"
      },
      "execution_count": null,
      "outputs": []
    },
    {
      "cell_type": "code",
      "source": [
        "def fill_NAN(df):\n",
        "  df.fillna(value='/', inplace=True)\n",
        "  return df"
      ],
      "metadata": {
        "id": "pBVxaMtzjHb9"
      },
      "execution_count": null,
      "outputs": []
    },
    {
      "cell_type": "code",
      "source": [
        "def save_db(data_frame):\n",
        "  data_frame.to_csv('/content/drive/MyDrive/winery_data.csv', index=False)"
      ],
      "metadata": {
        "id": "OMiLaTPkfizX"
      },
      "execution_count": null,
      "outputs": []
    },
    {
      "cell_type": "code",
      "source": [
        "def add_addr(df):\n",
        "    if 'Адреса на главниот преработувачки капацитет' in df.columns and 'Адреса на седиштето на производителот на вино' in df.columns:\n",
        "        df['Адреса на главниот преработувачки капацитет'] = df.apply(lambda row: row['Адреса на седиштето на производителот на вино']\n",
        "                                  if row['Адреса на главниот преработувачки капацитет'] == '/'\n",
        "                                  else row['Адреса на главниот преработувачки капацитет'], axis=1)\n",
        "        return df"
      ],
      "metadata": {
        "id": "xF0pmnh0ck2u"
      },
      "execution_count": null,
      "outputs": []
    },
    {
      "cell_type": "code",
      "source": [
        "df = (\n",
        "    read_db('/content/drive/MyDrive/baza vinarii.csv')\n",
        "    .pipe(clean_data)\n",
        "    .pipe(forward_fill, column_name='Место')\n",
        "    .pipe(fill_NAN)\n",
        "    .pipe(add_addr)\n",
        ")\n",
        "save_db(df)"
      ],
      "metadata": {
        "id": "KtZh8V0XkTEI"
      },
      "execution_count": null,
      "outputs": []
    }
  ]
}